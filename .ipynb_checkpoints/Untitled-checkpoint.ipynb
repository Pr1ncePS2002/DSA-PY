{
 "cells": [
  {
   "cell_type": "code",
   "execution_count": 2,
   "id": "c9ddeb6e-bbdd-4087-a421-f6965613fd11",
   "metadata": {},
   "outputs": [
    {
     "name": "stdout",
     "output_type": "stream",
     "text": [
      "3\n",
      "5\n",
      "7\n"
     ]
    }
   ],
   "source": [
    "class Node:\n",
    "    def __init__(self,value):\n",
    "        self.data=value\n",
    "        self.next=None\n",
    "        \n",
    "node1=Node(3)\n",
    "node2=Node(5)\n",
    "node3=Node(7)\n",
    "\n",
    "head=node1\n",
    "node1.next=node2\n",
    "node2.next=node3 \n",
    "\n",
    "def print_ll(head):\n",
    "    temp=head\n",
    "    while temp!=None:\n",
    "        print(temp.data)\n",
    "        temp=temp.next\n",
    "    return\n",
    "print_ll(head)\n",
    "\n",
    "      "
   ]
  },
  {
   "cell_type": "code",
   "execution_count": null,
   "id": "833fccf0-f623-44ac-868a-b710df7ab814",
   "metadata": {},
   "outputs": [],
   "source": []
  }
 ],
 "metadata": {
  "kernelspec": {
   "display_name": "Python 3 (ipykernel)",
   "language": "python",
   "name": "python3"
  },
  "language_info": {
   "codemirror_mode": {
    "name": "ipython",
    "version": 3
   },
   "file_extension": ".py",
   "mimetype": "text/x-python",
   "name": "python",
   "nbconvert_exporter": "python",
   "pygments_lexer": "ipython3",
   "version": "3.10.11"
  }
 },
 "nbformat": 4,
 "nbformat_minor": 5
}
