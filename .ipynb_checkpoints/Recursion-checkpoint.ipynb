{
 "cells": [
  {
   "cell_type": "code",
   "execution_count": 9,
   "id": "8ef70af4-b580-4a3b-a93f-3b8bbc983e14",
   "metadata": {},
   "outputs": [
    {
     "name": "stdout",
     "output_type": "stream",
     "text": [
      "False\n"
     ]
    }
   ],
   "source": [
    "def checksorted(nums):\n",
    "    if len(nums)==0 or len(nums)==1:\n",
    "        return True\n",
    "    if nums[0]>=nums[1]:\n",
    "        return False\n",
    "    ans=checksorted(nums[1:])\n",
    "    return ans\n",
    "nums=[6,3,4,5]\n",
    "print(checksorted(nums))"
   ]
  },
  {
   "cell_type": "markdown",
   "id": "2cfd0b7e-36d1-439f-92b5-58b65952ccaf",
   "metadata": {},
   "source": [
    "TAIL METHOD FOR SUM ARRAY"
   ]
  },
  {
   "cell_type": "markdown",
   "id": "5c666f16-a712-4f03-91eb-601b0b20b43d",
   "metadata": {},
   "source": [
    "\n",
    "def sumarr(nums,total=0):\n",
    "    if (len(nums)==0):\n",
    "        return total\n",
    "    total+=nums[0]\n",
    "    return sumarr(nums[1:],total)\n",
    "nums=[3,5,6,7,2,3,5]\n",
    "print(sumarr(nums))\n",
    "     \n",
    "    "
   ]
  },
  {
   "cell_type": "markdown",
   "id": "70a4a2ab-1ac3-4fd4-9e20-73c5bc3d0d45",
   "metadata": {},
   "source": [
    "HEAD METHOD FOR SUM ARRAY"
   ]
  },
  {
   "cell_type": "code",
   "execution_count": 11,
   "id": "cb10114d-510e-4989-8650-48d08c1652fb",
   "metadata": {},
   "outputs": [
    {
     "name": "stdout",
     "output_type": "stream",
     "text": [
      "31\n"
     ]
    }
   ],
   "source": [
    "def recursive_sum(arr):\n",
    "    \n",
    "    if len(arr)==0:\n",
    "        return 0\n",
    "    ans= arr[0]+recursive_sum(arr[1:]) \n",
    "    \n",
    "    return ans\n",
    "nums=[3,5,6,7,2,3,5]\n",
    "print(recursive_sum(nums))\n",
    "    "
   ]
  },
  {
   "cell_type": "code",
   "execution_count": null,
   "id": "4f22bc1b-f698-4ec1-815b-520d8e63d797",
   "metadata": {},
   "outputs": [],
   "source": []
  }
 ],
 "metadata": {
  "kernelspec": {
   "display_name": "Python 3 (ipykernel)",
   "language": "python",
   "name": "python3"
  },
  "language_info": {
   "codemirror_mode": {
    "name": "ipython",
    "version": 3
   },
   "file_extension": ".py",
   "mimetype": "text/x-python",
   "name": "python",
   "nbconvert_exporter": "python",
   "pygments_lexer": "ipython3",
   "version": "3.10.11"
  }
 },
 "nbformat": 4,
 "nbformat_minor": 5
}
