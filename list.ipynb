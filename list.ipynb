{
 "cells": [
  {
   "cell_type": "code",
   "execution_count": 7,
   "id": "c0635336-6bf9-400b-a5fd-fb1550aba792",
   "metadata": {},
   "outputs": [
    {
     "name": "stdin",
     "output_type": "stream",
     "text": [
      "enter the numbers: 5,6,7,8,8,4,7\n"
     ]
    },
    {
     "name": "stdout",
     "output_type": "stream",
     "text": [
      "[5, 6, 7, 8, 8, 4, 7]\n"
     ]
    }
   ],
   "source": [
    "x=list(map(int,input(\"enter the numbers:\").split(\",\"))) #taking input in a list from user\n",
    "print(x)"
   ]
  },
  {
   "cell_type": "code",
   "execution_count": 10,
   "id": "4923a42f-bcd4-4095-ad74-a37c6d1ecdcb",
   "metadata": {},
   "outputs": [
    {
     "name": "stdin",
     "output_type": "stream",
     "text": [
      "enter the limit: 30\n"
     ]
    },
    {
     "data": {
      "text/plain": [
       "[0, 2, 4, 6, 8, 10, 12, 14, 16, 18, 20, 22, 24, 26, 28]"
      ]
     },
     "execution_count": 10,
     "metadata": {},
     "output_type": "execute_result"
    }
   ],
   "source": [
    "x= int(input(\"enter the limit:\"))\n",
    "even_no=[num for num in range(x) if num%2==0] #conditional statements \n",
    "even_no"
   ]
  },
  {
   "cell_type": "code",
   "execution_count": 17,
   "id": "a3242685-e1e7-452e-83bb-090d28361660",
   "metadata": {},
   "outputs": [
    {
     "data": {
      "text/plain": [
       "[[1, 'a is a letter'],\n",
       " [1, 'b is a letter'],\n",
       " [1, 'c is a letter'],\n",
       " [1, 'd is a letter'],\n",
       " [1, 'e is a letter'],\n",
       " [2, 'a is a letter'],\n",
       " [2, 'b is a letter'],\n",
       " [2, 'c is a letter'],\n",
       " [2, 'd is a letter'],\n",
       " [2, 'e is a letter'],\n",
       " [3, 'a is a letter'],\n",
       " [3, 'b is a letter'],\n",
       " [3, 'c is a letter'],\n",
       " [3, 'd is a letter'],\n",
       " [3, 'e is a letter'],\n",
       " [4, 'a is a letter'],\n",
       " [4, 'b is a letter'],\n",
       " [4, 'c is a letter'],\n",
       " [4, 'd is a letter'],\n",
       " [4, 'e is a letter'],\n",
       " [5, 'a is a letter'],\n",
       " [5, 'b is a letter'],\n",
       " [5, 'c is a letter'],\n",
       " [5, 'd is a letter'],\n",
       " [5, 'e is a letter']]"
      ]
     },
     "execution_count": 17,
     "metadata": {},
     "output_type": "execute_result"
    }
   ],
   "source": [
    "#nested listed\n",
    "x=[1,2,3,4,5]\n",
    "y=['a','b','c','d','e']\n",
    "\n",
    "z=[[i,j+\" is a letter\"]for i in x for j in y]      #print i,j with pair while iterating through both lists at the same time\n",
    "z"
   ]
  },
  {
   "cell_type": "code",
   "execution_count": 21,
   "id": "78a1c9bc-da1e-4c6e-be0d-43cf93513757",
   "metadata": {},
   "outputs": [
    {
     "name": "stdout",
     "output_type": "stream",
     "text": [
      "1\n",
      "1\n",
      "1\n",
      "1\n",
      "1\n"
     ]
    }
   ],
   "source": [
    "x=[5,6,7,8,9]\n",
    "for i in range(len(x)):\n",
    "    print('1')"
   ]
  },
  {
   "cell_type": "code",
   "execution_count": 28,
   "id": "86ff3e02-f5ae-40b4-9f63-7bc7f4c8189e",
   "metadata": {},
   "outputs": [
    {
     "name": "stdout",
     "output_type": "stream",
     "text": [
      "[32, 22, 10]\n",
      "[3, 5, 45, 97, 19, 39, 43]\n"
     ]
    }
   ],
   "source": [
    "number=[3,5,45,97,32,22,10,19,39,43]\n",
    "even=[]\n",
    "odd=[]\n",
    "for i in number:\n",
    "    if i%2!=0:\n",
    "        odd.append(i)\n",
    "    else:\n",
    "        even.append(i)\n",
    "print(even)\n",
    "print(odd)\n"
   ]
  },
  {
   "cell_type": "code",
   "execution_count": 30,
   "id": "8c62a8fe-0033-415a-8c87-f36a0870a9ca",
   "metadata": {},
   "outputs": [
    {
     "data": {
      "text/plain": [
       "[32, 22, 10]"
      ]
     },
     "execution_count": 30,
     "metadata": {},
     "output_type": "execute_result"
    }
   ],
   "source": [
    "#list comprehension\n",
    "number=[3,5,45,97,32,22,10,19,39,43]\n",
    "x=[x for x in number if x%2==0]\n",
    "x"
   ]
  },
  {
   "cell_type": "code",
   "execution_count": 33,
   "id": "d8e8a166-7e66-4a50-8c05-59b5b14ee678",
   "metadata": {},
   "outputs": [
    {
     "data": {
      "text/plain": [
       "[2, 6, 8, 9]"
      ]
     },
     "execution_count": 33,
     "metadata": {},
     "output_type": "execute_result"
    }
   ],
   "source": [
    "original_list = [2,3.75,.04,59.354,6,7.7777,8,9]\n",
    "x=[x for x in original_list if type(x)==int]\n",
    "x"
   ]
  },
  {
   "cell_type": "code",
   "execution_count": 39,
   "id": "f880f0dc-0778-4bd8-a7e5-2391f965a24a",
   "metadata": {},
   "outputs": [
    {
     "data": {
      "text/plain": [
       "[3, 13, 23, 30, 31, 32, 33, 34, 35, 36, 37, 38, 39, 43, 53, 63, 73, 83, 93]"
      ]
     },
     "execution_count": 39,
     "metadata": {},
     "output_type": "execute_result"
    }
   ],
   "source": [
    "x=[x for x in range(1,100) if '3' in str(x)]\n",
    "x\n",
    "    "
   ]
  },
  {
   "cell_type": "code",
   "execution_count": 46,
   "id": "22df5d4b-7df0-42c2-8194-33a9627c315b",
   "metadata": {},
   "outputs": [
    {
     "data": {
      "text/plain": [
       "2"
      ]
     },
     "execution_count": 46,
     "metadata": {},
     "output_type": "execute_result"
    }
   ],
   "source": [
    "x=\"prince parmar singh\"\n",
    "count =0\n",
    "for i in x:\n",
    "    if i==\" \":\n",
    "        count=count+1\n",
    "count\n"
   ]
  },
  {
   "cell_type": "code",
   "execution_count": 55,
   "id": "5f490cb4-3182-4ceb-93e3-4faeacf9b808",
   "metadata": {},
   "outputs": [
    {
     "data": {
      "text/plain": [
       "3"
      ]
     },
     "execution_count": 55,
     "metadata": {},
     "output_type": "execute_result"
    }
   ],
   "source": [
    "x=\"prince parmar singh xyz\"\n",
    "z=[z for z in x if z==\" \"]\n",
    "z.count(\" \")\n",
    "len(z)\n"
   ]
  },
  {
   "cell_type": "code",
   "execution_count": 66,
   "id": "f2f99ca9-0509-4c96-9893-9ad1c5aa86b1",
   "metadata": {},
   "outputs": [
    {
     "data": {
      "text/plain": [
       "['y',\n",
       " 'l',\n",
       " 'l',\n",
       " 'w',\n",
       " ' ',\n",
       " 'y',\n",
       " 'k',\n",
       " 's',\n",
       " ' ',\n",
       " 'l',\n",
       " 'k',\n",
       " ' ',\n",
       " 'y',\n",
       " 'l',\n",
       " 'l',\n",
       " 'n',\n",
       " 'g',\n",
       " ' ',\n",
       " 'n',\n",
       " 'd',\n",
       " ' ',\n",
       " 'y',\n",
       " 'w',\n",
       " 'n',\n",
       " 'n',\n",
       " 'g',\n",
       " ' ',\n",
       " 'n',\n",
       " 'd',\n",
       " ' ',\n",
       " 'y',\n",
       " 's',\n",
       " 't',\n",
       " 'r',\n",
       " 'd',\n",
       " 'y',\n",
       " ' ',\n",
       " 't',\n",
       " 'h',\n",
       " 'y',\n",
       " ' ',\n",
       " 'y',\n",
       " 'd',\n",
       " 'l',\n",
       " 'd',\n",
       " ' ',\n",
       " 'w',\n",
       " 'h',\n",
       " 'l',\n",
       " ' ',\n",
       " 't',\n",
       " 'n',\n",
       " 'g',\n",
       " ' ',\n",
       " 'y',\n",
       " 'k',\n",
       " 'y',\n",
       " ' ',\n",
       " 'y',\n",
       " 'm',\n",
       " 's']"
      ]
     },
     "execution_count": 66,
     "metadata": {},
     "output_type": "execute_result"
    }
   ],
   "source": [
    "#Create a list of all the consonants in the string “Yellow Yaks like yelling and yawning and yesturday they yodled while eating yuky yams”\n",
    "x=\"Yellow Yaks like yelling and yawning and yesturday they yodled while eating yuky yams\"\n",
    "x=x.lower()\n",
    "z=[z for z in x if z not in 'a,e,i,o,u,\"\"']\n",
    "z"
   ]
  },
  {
   "cell_type": "code",
   "execution_count": 69,
   "id": "3a140035-82a0-4c17-bd47-5187c13e0d69",
   "metadata": {},
   "outputs": [
    {
     "name": "stdout",
     "output_type": "stream",
     "text": [
      "0 hi\n",
      "1 4\n",
      "2 8.99\n",
      "3 apple\n",
      "4 ('t', 'b', 'n')\n"
     ]
    }
   ],
   "source": [
    "x=[\"hi\", 4, 8.99, \"apple\", ('t','b','n')]\n",
    "for key,value in enumerate(x):\n",
    "    print(key,value)"
   ]
  },
  {
   "cell_type": "code",
   "execution_count": 70,
   "id": "0b76b907-7ef6-470b-9b48-ca8ad56e778e",
   "metadata": {},
   "outputs": [
    {
     "data": {
      "text/plain": [
       "[2, 5, 7]"
      ]
     },
     "execution_count": 70,
     "metadata": {},
     "output_type": "execute_result"
    }
   ],
   "source": [
    "x=[1,2,3,4,5,7]\n",
    "y=[2,5,6,7]\n",
    "common=[]\n",
    "for i in x:\n",
    "    for j in y:\n",
    "        if i==j:\n",
    "            common.append(i)\n",
    "common\n",
    "            "
   ]
  }
 ],
 "metadata": {
  "kernelspec": {
   "display_name": "Python 3 (ipykernel)",
   "language": "python",
   "name": "python3"
  },
  "language_info": {
   "codemirror_mode": {
    "name": "ipython",
    "version": 3
   },
   "file_extension": ".py",
   "mimetype": "text/x-python",
   "name": "python",
   "nbconvert_exporter": "python",
   "pygments_lexer": "ipython3",
   "version": "3.13.2"
  }
 },
 "nbformat": 4,
 "nbformat_minor": 5
}
