{
 "cells": [
  {
   "cell_type": "code",
   "execution_count": 4,
   "id": "37173623-0066-468e-81f9-13b8fb59ea2a",
   "metadata": {},
   "outputs": [
    {
     "name": "stdout",
     "output_type": "stream",
     "text": [
      "{1: 1, 2: 3, 3: 3, 4: 4, 5: 3, 6: 1, 7: 2, 8: 2}\n"
     ]
    }
   ],
   "source": [
    "num=[1,2,3,4,5,4,2,3,4,5,6,7,2,7,8,8,5,4,3]\n",
    "frequency={}\n",
    "\n",
    "for number in num:\n",
    "    if number not in frequency:\n",
    "        frequency[number]=1\n",
    "    else:\n",
    "        frequency[number]+=1\n",
    "print(frequency)"
   ]
  },
  {
   "cell_type": "code",
   "execution_count": 6,
   "id": "34a609c5-5496-453a-a42c-480df7291fd5",
   "metadata": {},
   "outputs": [
    {
     "data": {
      "text/plain": [
       "{'a': 1, 'b': 2, 'c': 2, 'd': 3}"
      ]
     },
     "execution_count": 6,
     "metadata": {},
     "output_type": "execute_result"
    }
   ],
   "source": [
    "dict1={\"a\":1,\"b\":2}\n",
    "dict2 ={\"c\":2,\"d\":3}\n",
    "merge={**dict1,**dict2}\n",
    "merge"
   ]
  },
  {
   "cell_type": "code",
   "execution_count": null,
   "id": "24491f67-264a-463b-ab9b-5b96debccb96",
   "metadata": {},
   "outputs": [],
   "source": []
  }
 ],
 "metadata": {
  "kernelspec": {
   "display_name": "Python 3 (ipykernel)",
   "language": "python",
   "name": "python3"
  },
  "language_info": {
   "codemirror_mode": {
    "name": "ipython",
    "version": 3
   },
   "file_extension": ".py",
   "mimetype": "text/x-python",
   "name": "python",
   "nbconvert_exporter": "python",
   "pygments_lexer": "ipython3",
   "version": "3.13.2"
  }
 },
 "nbformat": 4,
 "nbformat_minor": 5
}
